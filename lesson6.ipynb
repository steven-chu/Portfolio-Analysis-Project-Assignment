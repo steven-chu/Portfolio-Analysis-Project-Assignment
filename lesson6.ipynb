{
 "cells": [
  {
   "cell_type": "code",
   "execution_count": 1,
   "metadata": {},
   "outputs": [],
   "source": [
    "# Import pandas using Python 3.11.9 interpreter\n",
    "import pandas as pd\n",
    "import yfinance as yf\n",
    "import datetime as dt\n"
   ]
  },
  {
   "cell_type": "code",
   "execution_count": 2,
   "metadata": {},
   "outputs": [],
   "source": [
    "assets = ['NVDA', 'GME', 'TSLA', 'ACLS']\n",
    "benchmarks = ['SPY']\n",
    "\n",
    "benchmarks = [asset.upper() for asset in benchmarks]\n",
    "assets = [asset.upper() for asset in assets]\n",
    "\n",
    "tickers = assets + benchmarks\n",
    "startdate = '2019-09-18'\n"
   ]
  },
  {
   "cell_type": "code",
   "execution_count": 3,
   "metadata": {},
   "outputs": [
    {
     "name": "stderr",
     "output_type": "stream",
     "text": [
      "[*********************100%***********************]  5 of 5 completed\n"
     ]
    }
   ],
   "source": [
    "data = yf.download(tickers, start = startdate)['Adj Close']\n",
    "\n",
    "# Empty Array to store new data\n",
    "assets2 = []\n",
    "\n",
    "# For whatever is in assets, append it into the empty array asset2\n",
    "for asset in assets:\n",
    "    assets2.append(asset.upper())"
   ]
  },
  {
   "cell_type": "code",
   "execution_count": 4,
   "metadata": {},
   "outputs": [
    {
     "data": {
      "text/plain": [
       "['NVDA', 'GME', 'TSLA', 'ACLS']"
      ]
     },
     "execution_count": 4,
     "metadata": {},
     "output_type": "execute_result"
    }
   ],
   "source": [
    "assets2"
   ]
  },
  {
   "cell_type": "code",
   "execution_count": 5,
   "metadata": {},
   "outputs": [
    {
     "data": {
      "text/html": [
       "<div>\n",
       "<style scoped>\n",
       "    .dataframe tbody tr th:only-of-type {\n",
       "        vertical-align: middle;\n",
       "    }\n",
       "\n",
       "    .dataframe tbody tr th {\n",
       "        vertical-align: top;\n",
       "    }\n",
       "\n",
       "    .dataframe thead th {\n",
       "        text-align: right;\n",
       "    }\n",
       "</style>\n",
       "<table border=\"1\" class=\"dataframe\">\n",
       "  <thead>\n",
       "    <tr style=\"text-align: right;\">\n",
       "      <th>Ticker</th>\n",
       "      <th>NVDA</th>\n",
       "      <th>GME</th>\n",
       "      <th>TSLA</th>\n",
       "      <th>ACLS</th>\n",
       "    </tr>\n",
       "    <tr>\n",
       "      <th>Date</th>\n",
       "      <th></th>\n",
       "      <th></th>\n",
       "      <th></th>\n",
       "      <th></th>\n",
       "    </tr>\n",
       "  </thead>\n",
       "  <tbody>\n",
       "    <tr>\n",
       "      <th>2019-09-18 00:00:00+00:00</th>\n",
       "      <td>4.477720</td>\n",
       "      <td>1.1500</td>\n",
       "      <td>16.232668</td>\n",
       "      <td>18.370001</td>\n",
       "    </tr>\n",
       "    <tr>\n",
       "      <th>2019-09-19 00:00:00+00:00</th>\n",
       "      <td>4.402088</td>\n",
       "      <td>1.1100</td>\n",
       "      <td>16.440001</td>\n",
       "      <td>18.160000</td>\n",
       "    </tr>\n",
       "    <tr>\n",
       "      <th>2019-09-20 00:00:00+00:00</th>\n",
       "      <td>4.296352</td>\n",
       "      <td>1.1750</td>\n",
       "      <td>16.041332</td>\n",
       "      <td>18.219999</td>\n",
       "    </tr>\n",
       "    <tr>\n",
       "      <th>2019-09-23 00:00:00+00:00</th>\n",
       "      <td>4.349842</td>\n",
       "      <td>1.2550</td>\n",
       "      <td>16.082001</td>\n",
       "      <td>18.379999</td>\n",
       "    </tr>\n",
       "    <tr>\n",
       "      <th>2019-09-24 00:00:00+00:00</th>\n",
       "      <td>4.292372</td>\n",
       "      <td>1.2525</td>\n",
       "      <td>14.880667</td>\n",
       "      <td>18.299999</td>\n",
       "    </tr>\n",
       "    <tr>\n",
       "      <th>...</th>\n",
       "      <td>...</td>\n",
       "      <td>...</td>\n",
       "      <td>...</td>\n",
       "      <td>...</td>\n",
       "    </tr>\n",
       "    <tr>\n",
       "      <th>2024-09-16 00:00:00+00:00</th>\n",
       "      <td>116.779999</td>\n",
       "      <td>20.0900</td>\n",
       "      <td>226.779999</td>\n",
       "      <td>98.860001</td>\n",
       "    </tr>\n",
       "    <tr>\n",
       "      <th>2024-09-17 00:00:00+00:00</th>\n",
       "      <td>115.589996</td>\n",
       "      <td>20.1600</td>\n",
       "      <td>227.869995</td>\n",
       "      <td>99.769997</td>\n",
       "    </tr>\n",
       "    <tr>\n",
       "      <th>2024-09-18 00:00:00+00:00</th>\n",
       "      <td>113.370003</td>\n",
       "      <td>19.6500</td>\n",
       "      <td>227.199997</td>\n",
       "      <td>97.839996</td>\n",
       "    </tr>\n",
       "    <tr>\n",
       "      <th>2024-09-19 00:00:00+00:00</th>\n",
       "      <td>117.870003</td>\n",
       "      <td>19.5100</td>\n",
       "      <td>243.919998</td>\n",
       "      <td>102.230003</td>\n",
       "    </tr>\n",
       "    <tr>\n",
       "      <th>2024-09-20 00:00:00+00:00</th>\n",
       "      <td>116.000000</td>\n",
       "      <td>21.8500</td>\n",
       "      <td>238.250000</td>\n",
       "      <td>101.290001</td>\n",
       "    </tr>\n",
       "  </tbody>\n",
       "</table>\n",
       "<p>1261 rows × 4 columns</p>\n",
       "</div>"
      ],
      "text/plain": [
       "Ticker                           NVDA      GME        TSLA        ACLS\n",
       "Date                                                                  \n",
       "2019-09-18 00:00:00+00:00    4.477720   1.1500   16.232668   18.370001\n",
       "2019-09-19 00:00:00+00:00    4.402088   1.1100   16.440001   18.160000\n",
       "2019-09-20 00:00:00+00:00    4.296352   1.1750   16.041332   18.219999\n",
       "2019-09-23 00:00:00+00:00    4.349842   1.2550   16.082001   18.379999\n",
       "2019-09-24 00:00:00+00:00    4.292372   1.2525   14.880667   18.299999\n",
       "...                               ...      ...         ...         ...\n",
       "2024-09-16 00:00:00+00:00  116.779999  20.0900  226.779999   98.860001\n",
       "2024-09-17 00:00:00+00:00  115.589996  20.1600  227.869995   99.769997\n",
       "2024-09-18 00:00:00+00:00  113.370003  19.6500  227.199997   97.839996\n",
       "2024-09-19 00:00:00+00:00  117.870003  19.5100  243.919998  102.230003\n",
       "2024-09-20 00:00:00+00:00  116.000000  21.8500  238.250000  101.290001\n",
       "\n",
       "[1261 rows x 4 columns]"
      ]
     },
     "execution_count": 5,
     "metadata": {},
     "output_type": "execute_result"
    }
   ],
   "source": [
    "data[assets]"
   ]
  },
  {
   "cell_type": "code",
   "execution_count": 6,
   "metadata": {},
   "outputs": [
    {
     "data": {
      "text/html": [
       "<div>\n",
       "<style scoped>\n",
       "    .dataframe tbody tr th:only-of-type {\n",
       "        vertical-align: middle;\n",
       "    }\n",
       "\n",
       "    .dataframe tbody tr th {\n",
       "        vertical-align: top;\n",
       "    }\n",
       "\n",
       "    .dataframe thead th {\n",
       "        text-align: right;\n",
       "    }\n",
       "</style>\n",
       "<table border=\"1\" class=\"dataframe\">\n",
       "  <thead>\n",
       "    <tr style=\"text-align: right;\">\n",
       "      <th>Ticker</th>\n",
       "      <th>SPY</th>\n",
       "    </tr>\n",
       "    <tr>\n",
       "      <th>Date</th>\n",
       "      <th></th>\n",
       "    </tr>\n",
       "  </thead>\n",
       "  <tbody>\n",
       "    <tr>\n",
       "      <th>2019-09-18 00:00:00+00:00</th>\n",
       "      <td>277.445160</td>\n",
       "    </tr>\n",
       "    <tr>\n",
       "      <th>2019-09-19 00:00:00+00:00</th>\n",
       "      <td>277.426636</td>\n",
       "    </tr>\n",
       "    <tr>\n",
       "      <th>2019-09-20 00:00:00+00:00</th>\n",
       "      <td>276.115906</td>\n",
       "    </tr>\n",
       "    <tr>\n",
       "      <th>2019-09-23 00:00:00+00:00</th>\n",
       "      <td>276.051117</td>\n",
       "    </tr>\n",
       "    <tr>\n",
       "      <th>2019-09-24 00:00:00+00:00</th>\n",
       "      <td>273.884949</td>\n",
       "    </tr>\n",
       "    <tr>\n",
       "      <th>...</th>\n",
       "      <td>...</td>\n",
       "    </tr>\n",
       "    <tr>\n",
       "      <th>2024-09-16 00:00:00+00:00</th>\n",
       "      <td>561.118896</td>\n",
       "    </tr>\n",
       "    <tr>\n",
       "      <th>2024-09-17 00:00:00+00:00</th>\n",
       "      <td>561.348206</td>\n",
       "    </tr>\n",
       "    <tr>\n",
       "      <th>2024-09-18 00:00:00+00:00</th>\n",
       "      <td>559.683350</td>\n",
       "    </tr>\n",
       "    <tr>\n",
       "      <th>2024-09-19 00:00:00+00:00</th>\n",
       "      <td>569.234009</td>\n",
       "    </tr>\n",
       "    <tr>\n",
       "      <th>2024-09-20 00:00:00+00:00</th>\n",
       "      <td>568.250000</td>\n",
       "    </tr>\n",
       "  </tbody>\n",
       "</table>\n",
       "<p>1261 rows × 1 columns</p>\n",
       "</div>"
      ],
      "text/plain": [
       "Ticker                            SPY\n",
       "Date                                 \n",
       "2019-09-18 00:00:00+00:00  277.445160\n",
       "2019-09-19 00:00:00+00:00  277.426636\n",
       "2019-09-20 00:00:00+00:00  276.115906\n",
       "2019-09-23 00:00:00+00:00  276.051117\n",
       "2019-09-24 00:00:00+00:00  273.884949\n",
       "...                               ...\n",
       "2024-09-16 00:00:00+00:00  561.118896\n",
       "2024-09-17 00:00:00+00:00  561.348206\n",
       "2024-09-18 00:00:00+00:00  559.683350\n",
       "2024-09-19 00:00:00+00:00  569.234009\n",
       "2024-09-20 00:00:00+00:00  568.250000\n",
       "\n",
       "[1261 rows x 1 columns]"
      ]
     },
     "execution_count": 6,
     "metadata": {},
     "output_type": "execute_result"
    }
   ],
   "source": [
    "spy = data[benchmarks]\n",
    "spy"
   ]
  },
  {
   "cell_type": "markdown",
   "metadata": {},
   "source": [
    "Percent Change = (New - Old)/Old * 100"
   ]
  },
  {
   "cell_type": "code",
   "execution_count": 7,
   "metadata": {},
   "outputs": [
    {
     "name": "stderr",
     "output_type": "stream",
     "text": [
      "C:\\Users\\Steven Chu\\AppData\\Local\\Temp\\ipykernel_7984\\2293659577.py:3: SettingWithCopyWarning: \n",
      "A value is trying to be set on a copy of a slice from a DataFrame.\n",
      "Try using .loc[row_indexer,col_indexer] = value instead\n",
      "\n",
      "See the caveats in the documentation: https://pandas.pydata.org/pandas-docs/stable/user_guide/indexing.html#returning-a-view-versus-a-copy\n",
      "  spy['old'] = spy.shift(252)\n",
      "C:\\Users\\Steven Chu\\AppData\\Local\\Temp\\ipykernel_7984\\2293659577.py:5: SettingWithCopyWarning: \n",
      "A value is trying to be set on a copy of a slice from a DataFrame.\n",
      "Try using .loc[row_indexer,col_indexer] = value instead\n",
      "\n",
      "See the caveats in the documentation: https://pandas.pydata.org/pandas-docs/stable/user_guide/indexing.html#returning-a-view-versus-a-copy\n",
      "  spy['change'] = spy.SPY - spy.old\n"
     ]
    },
    {
     "data": {
      "text/plain": [
       "Date\n",
       "2019-09-18 00:00:00+00:00         NaN\n",
       "2019-09-19 00:00:00+00:00         NaN\n",
       "2019-09-20 00:00:00+00:00         NaN\n",
       "2019-09-23 00:00:00+00:00         NaN\n",
       "2019-09-24 00:00:00+00:00         NaN\n",
       "                               ...   \n",
       "2024-09-16 00:00:00+00:00    0.267237\n",
       "2024-09-17 00:00:00+00:00    0.283215\n",
       "2024-09-18 00:00:00+00:00    0.278659\n",
       "2024-09-19 00:00:00+00:00    0.303182\n",
       "2024-09-20 00:00:00+00:00    0.313000\n",
       "Length: 1261, dtype: float64"
      ]
     },
     "execution_count": 7,
     "metadata": {},
     "output_type": "execute_result"
    }
   ],
   "source": [
    "# Adding 'old' category to show a down shift\n",
    "# Shifting 5 will give a weekly return, Shifting 21 will give a monthly, Shifting 252 will give a yearly. Includes holidays, weekends.\n",
    "spy['old'] = spy.shift(252)\n",
    "# Capital SPY is important as that's how strict pandas indexing is\n",
    "spy['change'] = spy.SPY - spy.old\n",
    "# Numbers so low because it's a 10% daily change not an 10% annual\n",
    "spy.change / spy.old"
   ]
  },
  {
   "cell_type": "code",
   "execution_count": 8,
   "metadata": {},
   "outputs": [
    {
     "data": {
      "text/html": [
       "<div>\n",
       "<style scoped>\n",
       "    .dataframe tbody tr th:only-of-type {\n",
       "        vertical-align: middle;\n",
       "    }\n",
       "\n",
       "    .dataframe tbody tr th {\n",
       "        vertical-align: top;\n",
       "    }\n",
       "\n",
       "    .dataframe thead th {\n",
       "        text-align: right;\n",
       "    }\n",
       "</style>\n",
       "<table border=\"1\" class=\"dataframe\">\n",
       "  <thead>\n",
       "    <tr style=\"text-align: right;\">\n",
       "      <th>Ticker</th>\n",
       "      <th>SPY</th>\n",
       "    </tr>\n",
       "    <tr>\n",
       "      <th>Date</th>\n",
       "      <th></th>\n",
       "    </tr>\n",
       "  </thead>\n",
       "  <tbody>\n",
       "    <tr>\n",
       "      <th>2019-09-18 00:00:00+00:00</th>\n",
       "      <td>NaN</td>\n",
       "    </tr>\n",
       "    <tr>\n",
       "      <th>2019-09-19 00:00:00+00:00</th>\n",
       "      <td>-0.000067</td>\n",
       "    </tr>\n",
       "    <tr>\n",
       "      <th>2019-09-20 00:00:00+00:00</th>\n",
       "      <td>-0.004725</td>\n",
       "    </tr>\n",
       "    <tr>\n",
       "      <th>2019-09-23 00:00:00+00:00</th>\n",
       "      <td>-0.000235</td>\n",
       "    </tr>\n",
       "    <tr>\n",
       "      <th>2019-09-24 00:00:00+00:00</th>\n",
       "      <td>-0.007847</td>\n",
       "    </tr>\n",
       "  </tbody>\n",
       "</table>\n",
       "</div>"
      ],
      "text/plain": [
       "Ticker                          SPY\n",
       "Date                               \n",
       "2019-09-18 00:00:00+00:00       NaN\n",
       "2019-09-19 00:00:00+00:00 -0.000067\n",
       "2019-09-20 00:00:00+00:00 -0.004725\n",
       "2019-09-23 00:00:00+00:00 -0.000235\n",
       "2019-09-24 00:00:00+00:00 -0.007847"
      ]
     },
     "execution_count": 8,
     "metadata": {},
     "output_type": "execute_result"
    }
   ],
   "source": [
    "#pct_change is a built in function in Python\n",
    "spy_returns = data[benchmarks].pct_change()\n",
    "spy_returns.head()"
   ]
  },
  {
   "cell_type": "code",
   "execution_count": 9,
   "metadata": {},
   "outputs": [
    {
     "data": {
      "text/plain": [
       "Ticker\n",
       "ACLS    0.637866\n",
       "GME     7.304340\n",
       "NVDA    1.059897\n",
       "SPY     0.161336\n",
       "TSLA    1.153876\n",
       "dtype: float64"
      ]
     },
     "execution_count": 9,
     "metadata": {},
     "output_type": "execute_result"
    }
   ],
   "source": [
    "data.pct_change(252).mean()"
   ]
  },
  {
   "cell_type": "code",
   "execution_count": 10,
   "metadata": {},
   "outputs": [
    {
     "data": {
      "text/plain": [
       "Ticker\n",
       "ACLS     0.628011\n",
       "GME     15.263306\n",
       "NVDA     0.900925\n",
       "SPY      0.181505\n",
       "TSLA     2.262161\n",
       "dtype: float64"
      ]
     },
     "execution_count": 10,
     "metadata": {},
     "output_type": "execute_result"
    }
   ],
   "source": [
    "data.pct_change(252).std()"
   ]
  }
 ],
 "metadata": {
  "kernelspec": {
   "display_name": "yfinance-env",
   "language": "python",
   "name": "python3"
  },
  "language_info": {
   "codemirror_mode": {
    "name": "ipython",
    "version": 3
   },
   "file_extension": ".py",
   "mimetype": "text/x-python",
   "name": "python",
   "nbconvert_exporter": "python",
   "pygments_lexer": "ipython3",
   "version": "3.11.9"
  }
 },
 "nbformat": 4,
 "nbformat_minor": 2
}
