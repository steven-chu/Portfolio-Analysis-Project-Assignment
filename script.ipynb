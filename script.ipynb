{
 "cells": [
  {
   "cell_type": "code",
   "execution_count": 5,
   "metadata": {},
   "outputs": [],
   "source": [
    "#1. Create a table showing constituent (stocks) risk analysis in the equal-weight portfolio analysis as of the\n",
    "#current date.\n",
    "#a. Column 1 – Ticker [Complete]\n",
    "#b. Column 2 – Portfolio Weight (equally weighted)\n",
    "#c. Column 3 – Annualized Volatility (using trailing 3-months)\n",
    "#d. Column 4 – Beta against SPY (using trailing 12-months)\n",
    "#e. Column 5 – Beta against IWM (using trailing 12-months)\n",
    "#f. Column 6 – Beta against DIA (using trailing 12-months\n",
    "#g. Column 7 – Average Weekly Drawdown (52-week Low minus 52-week High) / 52-week High\n",
    "#h. Column 8 – Maximum Weekly Drawdown (52-week Low minus 52-week High) / 52-week High\n",
    "#i. Column 9 – Total Return (using trailing 10-years)\n",
    "#j. Column 10 – Annualized Total Return (using trailing 10-years)\n",
    "\n",
    "import pandas as pd\n",
    "import yfinance as yf\n",
    "import numpy as np"
   ]
  },
  {
   "cell_type": "code",
   "execution_count": 6,
   "metadata": {},
   "outputs": [],
   "source": [
    "# Tickers on the NYSE traded assets, 7 stocks and 3 ETFS\n",
    "tickers = ['NVDA', 'TSLA', 'GME','AMD','MSFT','META','WMT', 'SPY', 'IWM', 'DIA']"
   ]
  },
  {
   "cell_type": "code",
   "execution_count": 7,
   "metadata": {},
   "outputs": [
    {
     "name": "stderr",
     "output_type": "stream",
     "text": [
      "[*********************100%***********************]  10 of 10 completed\n",
      "[*********************100%***********************]  3 of 3 completed\n"
     ]
    }
   ],
   "source": [
    "# Downloading the historical data, 10 years is a safe number\n",
    "startDate = '2012-11-23'\n",
    "endDate = '2022-11-23'\n",
    "data = yf.download(tickers, start = startDate, end = endDate)['Adj Close']\n",
    "\n",
    "# Need to compare the 7 traded assets to the ETFS, so the ETFS are benchmarks\n",
    "benchmarks = yf.download(['SPY', 'DIA', 'IWM'], start = startDate, end = endDate)['Adj Close']\n"
   ]
  },
  {
   "cell_type": "code",
   "execution_count": 19,
   "metadata": {},
   "outputs": [
    {
     "data": {
      "text/html": [
       "<div>\n",
       "<style scoped>\n",
       "    .dataframe tbody tr th:only-of-type {\n",
       "        vertical-align: middle;\n",
       "    }\n",
       "\n",
       "    .dataframe tbody tr th {\n",
       "        vertical-align: top;\n",
       "    }\n",
       "\n",
       "    .dataframe thead th {\n",
       "        text-align: right;\n",
       "    }\n",
       "</style>\n",
       "<table border=\"1\" class=\"dataframe\">\n",
       "  <thead>\n",
       "    <tr style=\"text-align: right;\">\n",
       "      <th>Ticker</th>\n",
       "      <th>index</th>\n",
       "      <th>Date</th>\n",
       "      <th>DIA</th>\n",
       "      <th>IWM</th>\n",
       "      <th>SPY</th>\n",
       "    </tr>\n",
       "  </thead>\n",
       "  <tbody>\n",
       "    <tr>\n",
       "      <th>0</th>\n",
       "      <td>0</td>\n",
       "      <td>2012-11-23 00:00:00+00:00</td>\n",
       "      <td>100.810196</td>\n",
       "      <td>68.453934</td>\n",
       "      <td>113.751717</td>\n",
       "    </tr>\n",
       "    <tr>\n",
       "      <th>1</th>\n",
       "      <td>1</td>\n",
       "      <td>2012-11-26 00:00:00+00:00</td>\n",
       "      <td>100.523048</td>\n",
       "      <td>68.675110</td>\n",
       "      <td>113.510269</td>\n",
       "    </tr>\n",
       "    <tr>\n",
       "      <th>2</th>\n",
       "      <td>2</td>\n",
       "      <td>2012-11-27 00:00:00+00:00</td>\n",
       "      <td>99.871124</td>\n",
       "      <td>68.590034</td>\n",
       "      <td>112.930878</td>\n",
       "    </tr>\n",
       "    <tr>\n",
       "      <th>3</th>\n",
       "      <td>3</td>\n",
       "      <td>2012-11-28 00:00:00+00:00</td>\n",
       "      <td>100.616158</td>\n",
       "      <td>69.168495</td>\n",
       "      <td>113.840279</td>\n",
       "    </tr>\n",
       "    <tr>\n",
       "      <th>4</th>\n",
       "      <td>4</td>\n",
       "      <td>2012-11-29 00:00:00+00:00</td>\n",
       "      <td>101.004234</td>\n",
       "      <td>69.959641</td>\n",
       "      <td>114.371376</td>\n",
       "    </tr>\n",
       "  </tbody>\n",
       "</table>\n",
       "</div>"
      ],
      "text/plain": [
       "Ticker  index                      Date         DIA        IWM         SPY\n",
       "0           0 2012-11-23 00:00:00+00:00  100.810196  68.453934  113.751717\n",
       "1           1 2012-11-26 00:00:00+00:00  100.523048  68.675110  113.510269\n",
       "2           2 2012-11-27 00:00:00+00:00   99.871124  68.590034  112.930878\n",
       "3           3 2012-11-28 00:00:00+00:00  100.616158  69.168495  113.840279\n",
       "4           4 2012-11-29 00:00:00+00:00  101.004234  69.959641  114.371376"
      ]
     },
     "execution_count": 19,
     "metadata": {},
     "output_type": "execute_result"
    }
   ],
   "source": [
    "benchmarks"
   ]
  },
  {
   "cell_type": "code",
   "execution_count": null,
   "metadata": {},
   "outputs": [],
   "source": [
    "# Portfolio Weight: A percentage of an investment portfolio that a specific asset or holding represents\n",
    "# Formula = [(Stock's Value) / (Total Portfolio Value)] * 100\n",
    "\n"
   ]
  }
 ],
 "metadata": {
  "kernelspec": {
   "display_name": "Python 3",
   "language": "python",
   "name": "python3"
  },
  "language_info": {
   "codemirror_mode": {
    "name": "ipython",
    "version": 3
   },
   "file_extension": ".py",
   "mimetype": "text/x-python",
   "name": "python",
   "nbconvert_exporter": "python",
   "pygments_lexer": "ipython3",
   "version": "3.11.9"
  }
 },
 "nbformat": 4,
 "nbformat_minor": 2
}
