{
 "cells": [
  {
   "cell_type": "code",
   "execution_count": 20,
   "metadata": {},
   "outputs": [],
   "source": [
    "#1. Create a table showing constituent (stocks) risk analysis in the equal-weight portfolio analysis as of the\n",
    "#current date.\n",
    "#a. Column 1 – Ticker [Complete]\n",
    "#b. Column 2 – Portfolio Weight (equally weighted) [Complete]\n",
    "#c. Column 3 – Annualized Volatility (using trailing 3-months) [Complete]\n",
    "#d. Column 4 – Beta against SPY (using trailing 12-months)\n",
    "#e. Column 5 – Beta against IWM (using trailing 12-months)\n",
    "#f. Column 6 – Beta against DIA (using trailing 12-months\n",
    "#g. Column 7 – Average Weekly Drawdown (52-week Low minus 52-week High) / 52-week High\n",
    "#h. Column 8 – Maximum Weekly Drawdown (52-week Low minus 52-week High) / 52-week High\n",
    "#i. Column 9 – Total Return (using trailing 10-years)\n",
    "#j. Column 10 – Annualized Total Return (using trailing 10-years)\n",
    "\n",
    "import pandas as pd\n",
    "import yfinance as yf\n",
    "import numpy as np"
   ]
  },
  {
   "cell_type": "code",
   "execution_count": 21,
   "metadata": {},
   "outputs": [],
   "source": [
    "# Tickers on the NYSE traded assets, 7 stocks and 3 ETFS\n",
    "tickers = ['NVDA', 'TSLA', 'GME','AMD','MSFT','META','WMT', 'SPY', 'IWM', 'DIA']"
   ]
  },
  {
   "cell_type": "code",
   "execution_count": 22,
   "metadata": {},
   "outputs": [
    {
     "name": "stderr",
     "output_type": "stream",
     "text": [
      "[*********************100%***********************]  10 of 10 completed\n",
      "[*********************100%***********************]  3 of 3 completed\n"
     ]
    }
   ],
   "source": [
    "# Downloading the historical data, 10 years is a safe number\n",
    "start_date = '2012-11-23'\n",
    "end_date = '2022-11-23'\n",
    "data = yf.download(tickers, start = start_date, end = end_date)['Adj Close']\n",
    "\n",
    "# Need to compare the 7 traded assets to the ETFS, so the ETFS are benchmarks\n",
    "benchmarks = yf.download(['SPY', 'DIA', 'IWM'], start = start_date, end = end_date)['Adj Close']\n"
   ]
  },
  {
   "cell_type": "code",
   "execution_count": 23,
   "metadata": {},
   "outputs": [
    {
     "data": {
      "text/html": [
       "<div>\n",
       "<style scoped>\n",
       "    .dataframe tbody tr th:only-of-type {\n",
       "        vertical-align: middle;\n",
       "    }\n",
       "\n",
       "    .dataframe tbody tr th {\n",
       "        vertical-align: top;\n",
       "    }\n",
       "\n",
       "    .dataframe thead th {\n",
       "        text-align: right;\n",
       "    }\n",
       "</style>\n",
       "<table border=\"1\" class=\"dataframe\">\n",
       "  <thead>\n",
       "    <tr style=\"text-align: right;\">\n",
       "      <th>Ticker</th>\n",
       "      <th>DIA</th>\n",
       "      <th>IWM</th>\n",
       "      <th>SPY</th>\n",
       "    </tr>\n",
       "    <tr>\n",
       "      <th>Date</th>\n",
       "      <th></th>\n",
       "      <th></th>\n",
       "      <th></th>\n",
       "    </tr>\n",
       "  </thead>\n",
       "  <tbody>\n",
       "    <tr>\n",
       "      <th>2012-11-23 00:00:00+00:00</th>\n",
       "      <td>100.810234</td>\n",
       "      <td>68.453934</td>\n",
       "      <td>113.751732</td>\n",
       "    </tr>\n",
       "    <tr>\n",
       "      <th>2012-11-26 00:00:00+00:00</th>\n",
       "      <td>100.523064</td>\n",
       "      <td>68.675125</td>\n",
       "      <td>113.510307</td>\n",
       "    </tr>\n",
       "    <tr>\n",
       "      <th>2012-11-27 00:00:00+00:00</th>\n",
       "      <td>99.871117</td>\n",
       "      <td>68.590065</td>\n",
       "      <td>112.930862</td>\n",
       "    </tr>\n",
       "    <tr>\n",
       "      <th>2012-11-28 00:00:00+00:00</th>\n",
       "      <td>100.616211</td>\n",
       "      <td>69.168503</td>\n",
       "      <td>113.840271</td>\n",
       "    </tr>\n",
       "    <tr>\n",
       "      <th>2012-11-29 00:00:00+00:00</th>\n",
       "      <td>101.004272</td>\n",
       "      <td>69.959625</td>\n",
       "      <td>114.371353</td>\n",
       "    </tr>\n",
       "    <tr>\n",
       "      <th>...</th>\n",
       "      <td>...</td>\n",
       "      <td>...</td>\n",
       "      <td>...</td>\n",
       "    </tr>\n",
       "    <tr>\n",
       "      <th>2022-11-16 00:00:00+00:00</th>\n",
       "      <td>322.862396</td>\n",
       "      <td>179.751633</td>\n",
       "      <td>384.126862</td>\n",
       "    </tr>\n",
       "    <tr>\n",
       "      <th>2022-11-17 00:00:00+00:00</th>\n",
       "      <td>322.891205</td>\n",
       "      <td>178.083344</td>\n",
       "      <td>382.951508</td>\n",
       "    </tr>\n",
       "    <tr>\n",
       "      <th>2022-11-18 00:00:00+00:00</th>\n",
       "      <td>324.769379</td>\n",
       "      <td>179.234573</td>\n",
       "      <td>384.690216</td>\n",
       "    </tr>\n",
       "    <tr>\n",
       "      <th>2022-11-21 00:00:00+00:00</th>\n",
       "      <td>324.461334</td>\n",
       "      <td>178.298004</td>\n",
       "      <td>383.291473</td>\n",
       "    </tr>\n",
       "    <tr>\n",
       "      <th>2022-11-22 00:00:00+00:00</th>\n",
       "      <td>328.225281</td>\n",
       "      <td>180.200394</td>\n",
       "      <td>388.449463</td>\n",
       "    </tr>\n",
       "  </tbody>\n",
       "</table>\n",
       "<p>2518 rows × 3 columns</p>\n",
       "</div>"
      ],
      "text/plain": [
       "Ticker                            DIA         IWM         SPY\n",
       "Date                                                         \n",
       "2012-11-23 00:00:00+00:00  100.810234   68.453934  113.751732\n",
       "2012-11-26 00:00:00+00:00  100.523064   68.675125  113.510307\n",
       "2012-11-27 00:00:00+00:00   99.871117   68.590065  112.930862\n",
       "2012-11-28 00:00:00+00:00  100.616211   69.168503  113.840271\n",
       "2012-11-29 00:00:00+00:00  101.004272   69.959625  114.371353\n",
       "...                               ...         ...         ...\n",
       "2022-11-16 00:00:00+00:00  322.862396  179.751633  384.126862\n",
       "2022-11-17 00:00:00+00:00  322.891205  178.083344  382.951508\n",
       "2022-11-18 00:00:00+00:00  324.769379  179.234573  384.690216\n",
       "2022-11-21 00:00:00+00:00  324.461334  178.298004  383.291473\n",
       "2022-11-22 00:00:00+00:00  328.225281  180.200394  388.449463\n",
       "\n",
       "[2518 rows x 3 columns]"
      ]
     },
     "execution_count": 23,
     "metadata": {},
     "output_type": "execute_result"
    }
   ],
   "source": [
    "benchmarks"
   ]
  },
  {
   "cell_type": "code",
   "execution_count": 30,
   "metadata": {},
   "outputs": [
    {
     "name": "stdout",
     "output_type": "stream",
     "text": [
      "      Weight\n",
      "NVDA     0.1\n",
      "TSLA     0.1\n",
      "GME      0.1\n",
      "AMD      0.1\n",
      "MSFT     0.1\n",
      "META     0.1\n",
      "WMT      0.1\n",
      "SPY      0.1\n",
      "IWM      0.1\n",
      "DIA      0.1\n"
     ]
    }
   ],
   "source": [
    "# Portfolio Weight: A percentage of an investment portfolio that a specific asset or holding represents\n",
    "# Formula = [(Stock's Value) / (Total Portfolio Value)]. In this case they all weigh the same amount.\n",
    "portfolioWeight = np.ones(len(tickers)) / len(tickers)\n",
    "\n",
    "# Create DataFrame with tickers as index and portfolio weights as a column\n",
    "df = pd.DataFrame({'Weight': portfolioWeight}, index=tickers)\n",
    "print(df)\n"
   ]
  },
  {
   "cell_type": "markdown",
   "metadata": {},
   "source": [
    "Since there are 10 assets and there isn't a specific money distribution, they all weigh the same in the portfolio as shown in the dataframe."
   ]
  },
  {
   "cell_type": "code",
   "execution_count": 35,
   "metadata": {},
   "outputs": [
    {
     "name": "stdout",
     "output_type": "stream",
     "text": [
      "Ticker\n",
      "AMD     235.006944\n",
      "DIA     220.889526\n",
      "GME      86.557112\n",
      "IWM     135.619857\n",
      "META    411.868606\n",
      "MSFT    317.167103\n",
      "NVDA     37.814750\n",
      "SPY     288.286804\n",
      "TSLA    666.287918\n",
      "WMT      30.451576\n",
      "Name: 2022-11-22 00:00:00+00:00, dtype: float64\n"
     ]
    }
   ],
   "source": [
    "# Credit: https://blog.quantinsti.com/volatility-and-measures-of-risk-adjusted-return-based-on-volatility/\n",
    "# Annualized Volatilty is used to indicate how much the value of an investment is likely to fluctuate\n",
    "# Formula = Standard Deviation x sqrt(252) where 252 is the annual that excludes weekends and holidays\n",
    "# .rolling is a function built into pandas that allows us to apply operations over a window of a specified size\n",
    "volatility = data.rolling(window=91).std() * np.sqrt(252)\n",
    "\n",
    "#.iloc[-1] jumps to the most recent\n",
    "annualized_volatility = volatility.iloc[-1]\n",
    "print(annualized_volatility.tail(10))\n"
   ]
  },
  {
   "cell_type": "markdown",
   "metadata": {},
   "source": [
    "Most recent annualized volatility of the 10 Tickers in a 3-month trail (91 window)"
   ]
  },
  {
   "cell_type": "code",
   "execution_count": null,
   "metadata": {},
   "outputs": [],
   "source": [
    "# Haven't gone over beta's yet"
   ]
  },
  {
   "cell_type": "code",
   "execution_count": 55,
   "metadata": {},
   "outputs": [
    {
     "data": {
      "text/plain": [
       "Ticker\n",
       "AMD     0.010533\n",
       "DIA     0.002593\n",
       "GME     0.016869\n",
       "IWM     0.002353\n",
       "META    0.004266\n",
       "MSFT    0.005297\n",
       "NVDA    0.009819\n",
       "SPY     0.002684\n",
       "TSLA    0.012102\n",
       "WMT     0.002325\n",
       "dtype: float64"
      ]
     },
     "execution_count": 55,
     "metadata": {},
     "output_type": "execute_result"
    }
   ],
   "source": [
    "weekly_returns = data.pct_change(5).mean()\n",
    "weekly_returns\n",
    "\n",
    "\n",
    "\n",
    "\n"
   ]
  },
  {
   "cell_type": "code",
   "execution_count": 56,
   "metadata": {},
   "outputs": [
    {
     "data": {
      "text/plain": [
       "Ticker\n",
       "AMD     0.477778\n",
       "DIA     0.198624\n",
       "GME     7.883180\n",
       "IWM     0.156004\n",
       "META    0.440107\n",
       "MSFT    0.178335\n",
       "NVDA    0.363288\n",
       "SPY     0.173581\n",
       "TSLA    0.564756\n",
       "WMT     0.153085\n",
       "dtype: float64"
      ]
     },
     "execution_count": 56,
     "metadata": {},
     "output_type": "execute_result"
    }
   ],
   "source": [
    "weekly_highs = data.pct_change(5).max()\n",
    "weekly_highs"
   ]
  },
  {
   "cell_type": "code",
   "execution_count": 58,
   "metadata": {},
   "outputs": [
    {
     "data": {
      "text/plain": [
       "Ticker\n",
       "AMD    -0.326808\n",
       "DIA    -0.188748\n",
       "GME    -0.803785\n",
       "IWM    -0.239954\n",
       "META   -0.309781\n",
       "MSFT   -0.163650\n",
       "NVDA   -0.283561\n",
       "SPY    -0.179693\n",
       "TSLA   -0.430459\n",
       "WMT    -0.194867\n",
       "dtype: float64"
      ]
     },
     "execution_count": 58,
     "metadata": {},
     "output_type": "execute_result"
    }
   ],
   "source": [
    "weekly_lows = data.pct_change(5).min()\n",
    "weekly_lows"
   ]
  },
  {
   "cell_type": "code",
   "execution_count": 59,
   "metadata": {},
   "outputs": [
    {
     "data": {
      "text/html": [
       "<div>\n",
       "<style scoped>\n",
       "    .dataframe tbody tr th:only-of-type {\n",
       "        vertical-align: middle;\n",
       "    }\n",
       "\n",
       "    .dataframe tbody tr th {\n",
       "        vertical-align: top;\n",
       "    }\n",
       "\n",
       "    .dataframe thead th {\n",
       "        text-align: right;\n",
       "    }\n",
       "</style>\n",
       "<table border=\"1\" class=\"dataframe\">\n",
       "  <thead>\n",
       "    <tr style=\"text-align: right;\">\n",
       "      <th>Ticker</th>\n",
       "      <th>AMD</th>\n",
       "      <th>DIA</th>\n",
       "      <th>GME</th>\n",
       "      <th>IWM</th>\n",
       "      <th>META</th>\n",
       "      <th>MSFT</th>\n",
       "      <th>NVDA</th>\n",
       "      <th>SPY</th>\n",
       "      <th>TSLA</th>\n",
       "      <th>WMT</th>\n",
       "    </tr>\n",
       "    <tr>\n",
       "      <th>Date</th>\n",
       "      <th></th>\n",
       "      <th></th>\n",
       "      <th></th>\n",
       "      <th></th>\n",
       "      <th></th>\n",
       "      <th></th>\n",
       "      <th></th>\n",
       "      <th></th>\n",
       "      <th></th>\n",
       "      <th></th>\n",
       "    </tr>\n",
       "  </thead>\n",
       "  <tbody>\n",
       "    <tr>\n",
       "      <th>2012-11-23 00:00:00+00:00</th>\n",
       "      <td>-3.081396</td>\n",
       "      <td>-506.542208</td>\n",
       "      <td>0.405692</td>\n",
       "      <td>-437.794992</td>\n",
       "      <td>-53.368475</td>\n",
       "      <td>-125.261582</td>\n",
       "      <td>0.244093</td>\n",
       "      <td>-654.321800</td>\n",
       "      <td>-2.792790</td>\n",
       "      <td>-117.759734</td>\n",
       "    </tr>\n",
       "    <tr>\n",
       "      <th>2012-11-26 00:00:00+00:00</th>\n",
       "      <td>-2.913954</td>\n",
       "      <td>-505.096411</td>\n",
       "      <td>0.405692</td>\n",
       "      <td>-439.212846</td>\n",
       "      <td>-57.763262</td>\n",
       "      <td>-123.848549</td>\n",
       "      <td>0.230754</td>\n",
       "      <td>-652.930958</td>\n",
       "      <td>-2.809316</td>\n",
       "      <td>-117.269120</td>\n",
       "    </tr>\n",
       "    <tr>\n",
       "      <th>2012-11-27 00:00:00+00:00</th>\n",
       "      <td>-2.934884</td>\n",
       "      <td>-501.814099</td>\n",
       "      <td>0.408794</td>\n",
       "      <td>-438.667604</td>\n",
       "      <td>-58.238987</td>\n",
       "      <td>-122.435536</td>\n",
       "      <td>0.227578</td>\n",
       "      <td>-649.592785</td>\n",
       "      <td>-2.795150</td>\n",
       "      <td>-116.575493</td>\n",
       "    </tr>\n",
       "    <tr>\n",
       "      <th>2012-11-28 00:00:00+00:00</th>\n",
       "      <td>-3.102326</td>\n",
       "      <td>-505.565373</td>\n",
       "      <td>0.414112</td>\n",
       "      <td>-442.375435</td>\n",
       "      <td>-58.714711</td>\n",
       "      <td>-123.711820</td>\n",
       "      <td>0.221225</td>\n",
       "      <td>-654.831873</td>\n",
       "      <td>-2.922639</td>\n",
       "      <td>-118.368786</td>\n",
       "    </tr>\n",
       "    <tr>\n",
       "      <th>2012-11-29 00:00:00+00:00</th>\n",
       "      <td>-3.269768</td>\n",
       "      <td>-507.519119</td>\n",
       "      <td>0.419209</td>\n",
       "      <td>-447.446591</td>\n",
       "      <td>-60.889447</td>\n",
       "      <td>-121.842962</td>\n",
       "      <td>0.235200</td>\n",
       "      <td>-657.891428</td>\n",
       "      <td>-2.976940</td>\n",
       "      <td>-118.825548</td>\n",
       "    </tr>\n",
       "    <tr>\n",
       "      <th>...</th>\n",
       "      <td>...</td>\n",
       "      <td>...</td>\n",
       "      <td>...</td>\n",
       "      <td>...</td>\n",
       "      <td>...</td>\n",
       "      <td>...</td>\n",
       "      <td>...</td>\n",
       "      <td>...</td>\n",
       "      <td>...</td>\n",
       "      <td>...</td>\n",
       "    </tr>\n",
       "    <tr>\n",
       "      <th>2022-11-16 00:00:00+00:00</th>\n",
       "      <td>-151.162791</td>\n",
       "      <td>-1624.492639</td>\n",
       "      <td>-2.442773</td>\n",
       "      <td>-1151.221823</td>\n",
       "      <td>-255.505948</td>\n",
       "      <td>-1335.267185</td>\n",
       "      <td>-42.754425</td>\n",
       "      <td>-2211.948343</td>\n",
       "      <td>-329.974925</td>\n",
       "      <td>-313.231902</td>\n",
       "    </tr>\n",
       "    <tr>\n",
       "      <th>2022-11-17 00:00:00+00:00</th>\n",
       "      <td>-153.674429</td>\n",
       "      <td>-1624.637680</td>\n",
       "      <td>-2.521421</td>\n",
       "      <td>-1140.527960</td>\n",
       "      <td>-251.473598</td>\n",
       "      <td>-1334.990732</td>\n",
       "      <td>-42.113645</td>\n",
       "      <td>-2205.177148</td>\n",
       "      <td>-323.334887</td>\n",
       "      <td>-312.173875</td>\n",
       "    </tr>\n",
       "    <tr>\n",
       "      <th>2022-11-18 00:00:00+00:00</th>\n",
       "      <td>-152.983728</td>\n",
       "      <td>-1634.093589</td>\n",
       "      <td>-2.501125</td>\n",
       "      <td>-1147.907432</td>\n",
       "      <td>-252.832843</td>\n",
       "      <td>-1332.448155</td>\n",
       "      <td>-41.376614</td>\n",
       "      <td>-2215.193818</td>\n",
       "      <td>-318.058277</td>\n",
       "      <td>-316.892646</td>\n",
       "    </tr>\n",
       "    <tr>\n",
       "      <th>2022-11-21 00:00:00+00:00</th>\n",
       "      <td>-150.660470</td>\n",
       "      <td>-1632.542700</td>\n",
       "      <td>-2.191605</td>\n",
       "      <td>-1141.903951</td>\n",
       "      <td>-247.871702</td>\n",
       "      <td>-1337.036277</td>\n",
       "      <td>-41.123602</td>\n",
       "      <td>-2207.135686</td>\n",
       "      <td>-296.243525</td>\n",
       "      <td>-318.839376</td>\n",
       "    </tr>\n",
       "    <tr>\n",
       "      <th>2022-11-22 00:00:00+00:00</th>\n",
       "      <td>-156.500007</td>\n",
       "      <td>-1651.492777</td>\n",
       "      <td>-2.336217</td>\n",
       "      <td>-1154.098415</td>\n",
       "      <td>-251.450958</td>\n",
       "      <td>-1353.509467</td>\n",
       "      <td>-43.106443</td>\n",
       "      <td>-2236.850776</td>\n",
       "      <td>-299.855721</td>\n",
       "      <td>-319.982052</td>\n",
       "    </tr>\n",
       "  </tbody>\n",
       "</table>\n",
       "<p>2518 rows × 10 columns</p>\n",
       "</div>"
      ],
      "text/plain": [
       "Ticker                            AMD          DIA       GME          IWM  \\\n",
       "Date                                                                        \n",
       "2012-11-23 00:00:00+00:00   -3.081396  -506.542208  0.405692  -437.794992   \n",
       "2012-11-26 00:00:00+00:00   -2.913954  -505.096411  0.405692  -439.212846   \n",
       "2012-11-27 00:00:00+00:00   -2.934884  -501.814099  0.408794  -438.667604   \n",
       "2012-11-28 00:00:00+00:00   -3.102326  -505.565373  0.414112  -442.375435   \n",
       "2012-11-29 00:00:00+00:00   -3.269768  -507.519119  0.419209  -447.446591   \n",
       "...                               ...          ...       ...          ...   \n",
       "2022-11-16 00:00:00+00:00 -151.162791 -1624.492639 -2.442773 -1151.221823   \n",
       "2022-11-17 00:00:00+00:00 -153.674429 -1624.637680 -2.521421 -1140.527960   \n",
       "2022-11-18 00:00:00+00:00 -152.983728 -1634.093589 -2.501125 -1147.907432   \n",
       "2022-11-21 00:00:00+00:00 -150.660470 -1632.542700 -2.191605 -1141.903951   \n",
       "2022-11-22 00:00:00+00:00 -156.500007 -1651.492777 -2.336217 -1154.098415   \n",
       "\n",
       "Ticker                           META         MSFT       NVDA          SPY  \\\n",
       "Date                                                                         \n",
       "2012-11-23 00:00:00+00:00  -53.368475  -125.261582   0.244093  -654.321800   \n",
       "2012-11-26 00:00:00+00:00  -57.763262  -123.848549   0.230754  -652.930958   \n",
       "2012-11-27 00:00:00+00:00  -58.238987  -122.435536   0.227578  -649.592785   \n",
       "2012-11-28 00:00:00+00:00  -58.714711  -123.711820   0.221225  -654.831873   \n",
       "2012-11-29 00:00:00+00:00  -60.889447  -121.842962   0.235200  -657.891428   \n",
       "...                               ...          ...        ...          ...   \n",
       "2022-11-16 00:00:00+00:00 -255.505948 -1335.267185 -42.754425 -2211.948343   \n",
       "2022-11-17 00:00:00+00:00 -251.473598 -1334.990732 -42.113645 -2205.177148   \n",
       "2022-11-18 00:00:00+00:00 -252.832843 -1332.448155 -41.376614 -2215.193818   \n",
       "2022-11-21 00:00:00+00:00 -247.871702 -1337.036277 -41.123602 -2207.135686   \n",
       "2022-11-22 00:00:00+00:00 -251.450958 -1353.509467 -43.106443 -2236.850776   \n",
       "\n",
       "Ticker                           TSLA         WMT  \n",
       "Date                                               \n",
       "2012-11-23 00:00:00+00:00   -2.792790 -117.759734  \n",
       "2012-11-26 00:00:00+00:00   -2.809316 -117.269120  \n",
       "2012-11-27 00:00:00+00:00   -2.795150 -116.575493  \n",
       "2012-11-28 00:00:00+00:00   -2.922639 -118.368786  \n",
       "2012-11-29 00:00:00+00:00   -2.976940 -118.825548  \n",
       "...                               ...         ...  \n",
       "2022-11-16 00:00:00+00:00 -329.974925 -313.231902  \n",
       "2022-11-17 00:00:00+00:00 -323.334887 -312.173875  \n",
       "2022-11-18 00:00:00+00:00 -318.058277 -316.892646  \n",
       "2022-11-21 00:00:00+00:00 -296.243525 -318.839376  \n",
       "2022-11-22 00:00:00+00:00 -299.855721 -319.982052  \n",
       "\n",
       "[2518 rows x 10 columns]"
      ]
     },
     "execution_count": 59,
     "metadata": {},
     "output_type": "execute_result"
    }
   ],
   "source": [
    "drawdowns = (weekly_highs - data)/weekly_highs\n",
    "drawdowns"
   ]
  },
  {
   "cell_type": "code",
   "execution_count": 62,
   "metadata": {},
   "outputs": [
    {
     "data": {
      "text/plain": [
       "Ticker\n",
       "AMD     -152.996285\n",
       "DIA    -1633.451877\n",
       "GME       -2.398628\n",
       "IWM    -1147.131916\n",
       "META    -251.827010\n",
       "MSFT   -1338.650363\n",
       "NVDA     -42.094946\n",
       "SPY    -2215.261154\n",
       "TSLA    -313.493467\n",
       "WMT     -316.223970\n",
       "Name: 2022-11-22 00:00:00+00:00, dtype: float64"
      ]
     },
     "execution_count": 62,
     "metadata": {},
     "output_type": "execute_result"
    }
   ],
   "source": [
    "average_weekly_drawdown = drawdowns.rolling(window=5).mean().iloc[-1]\n",
    "average_weekly_drawdown"
   ]
  },
  {
   "cell_type": "code",
   "execution_count": null,
   "metadata": {},
   "outputs": [],
   "source": []
  }
 ],
 "metadata": {
  "kernelspec": {
   "display_name": "Python 3",
   "language": "python",
   "name": "python3"
  },
  "language_info": {
   "codemirror_mode": {
    "name": "ipython",
    "version": 3
   },
   "file_extension": ".py",
   "mimetype": "text/x-python",
   "name": "python",
   "nbconvert_exporter": "python",
   "pygments_lexer": "ipython3",
   "version": "3.11.9"
  }
 },
 "nbformat": 4,
 "nbformat_minor": 2
}
